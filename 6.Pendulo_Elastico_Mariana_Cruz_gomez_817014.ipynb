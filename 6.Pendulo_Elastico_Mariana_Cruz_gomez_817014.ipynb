{
 "cells": [
  {
   "cell_type": "markdown",
   "metadata": {
    "colab_type": "text",
    "id": "H73L_JXU7k2L",
    "nbsphinx": "hidden"
   },
   "source": [
    "# Caracterización de Sistemas en el Dominio del Tiempo\n",
    "*This Jupyter notebook is part of a [collection of notebooks](../index.ipynb) in the bachelors module Signals and Systems, Communications Engineering, Universität Rostock. Please direct questions and suggestions to [Sascha.Spors@uni-rostock.de](mailto:Sascha.Spors@uni-rostock.de).*"
   ]
  },
  {
   "cell_type": "markdown",
   "metadata": {
    "colab_type": "text",
    "id": "K7eH5_ea7k2Q"
   },
   "source": [
    "## Análisis de un Péndulo Elástico Amortiguado\n",
    "\n",
    "El [péndulo elástico](https://en.wikipedia.org/wiki/Spring_pendulum) amortiguado es un ejemplo de un sistema mecánico que puede ser modelado por una ecuación diferencial ordinaria lineal (EDO) con coeficientes constantes. Desde el punto de vista de la teoría de señales y sistemas, puede ser interpretado como un sistema lineal invariante en el tiempo (SLIT). Las propiedades mecánicas del péndulo elástico amortiguado se analizan utilizando la teoría de los SLIT. La configuración mecánica subyacente se muestra en la siguiente\n",
    "\n",
    "![Péndulo Elástico Amortiguado](damped_spring.png)\n",
    "\n",
    "Un cuerpo rígido de masa $m$ está montado sobre un resorte con rigidez $k$ que está conectado al suelo. Un amortiguador con un coeficiente de amortiguamiento $c$ se monta paralelo al resorte para modelar la fricción presente en el sistema. Se asume que el movimiento de la masa a lo largo del tiempo está restringido al eje vertical, aquí indicado por $y$. Además, se asume que la masa no se mueve para $ t <0 $. Denotando el desplazamiento de la masa con respecto al tiempo con $y(t)$, las condiciones iniciales se formulan como $y(t)=0$ y $\\frac{d y(t)}{dt}=0$ para $t<0$.\n",
    "\n",
    "Se utilizarán los siguientes valores $m = 0.1$,  $c = 0.1$ y $k = 2.5$ para ilustrar de manera más sencilla el siguiente ejemplo."
   ]
  },
  {
   "cell_type": "markdown",
   "metadata": {
    "colab_type": "text",
    "id": "LujI96aT7k2T"
   },
   "source": [
    "### Ecuación Diferencial\n",
    "\n",
    "La ecuación diferencia del sistema mecánico se obtiene al considerar el equilibrio de fuerzas ejercidas sobre la masa\n",
    "\n",
    "\\begin{equation}\n",
    "F_\\text{S}(t) + F_\\text{F}(t) + F_\\text{I}(t) = F_\\text{E}(t)\n",
    "\\end{equation}\n",
    "\n",
    "Donde $F_\\text{E}(t) $ denota una fuerza externa que actúa sobre la masa. La fuerza $F_\\text{S}(t)$ inducida por el resorte está dada por la [ley de Hooke](https://en.wikipedia.org/wiki/Hooke%27s_law)\n",
    "\n",
    "\\begin{equation}\n",
    "F_\\text{S}(t) = k y(t)\n",
    "\\end{equation}\n",
    "\n",
    "Es común modelar la fuerza de fricción $F_\\text{F}(t)$ inducida por el amortiguador de manera proporcional a la velocidad de la masa\n",
    "\n",
    "\\begin{equation}\n",
    "F_\\text{F}(t) = c \\frac{d y(t)}{dt}\n",
    "\\end{equation}\n",
    "\n",
    "La fuerza inercial $F_\\text{I}(t)$ debida a la aceleración de la masa se da como\n",
    "\n",
    "\\begin{equation}\n",
    "F_\\text{I}(t) = m \\frac{d^2 y(t)}{dt^2}\n",
    "\\end{equation}\n",
    "\n",
    "Al introducir las fuerzas anteriormente halladas en el equilibrio de fuerzas se obtiene la ecuación diferencial que describe el desplazamiento del péndulo elástico amortiguado\n",
    "\n",
    "\\begin{equation}\n",
    "m \\frac{d^2 y(t)}{dt^2} + c \\frac{d y(t)}{dt} + k y(t) = F_\\text{E}(t)\n",
    "\\end{equation}\n",
    "\n",
    "Como consecuencia de la fuerza externa.\n",
    "La ecuación anterior constituye una EDO con coeficientes constantes. Puede interpretarse como un SLTI con la fuerza externa $x(t)=F_\\text{E}(t)$ como señal de entrada y el desplazamiento de la masa como la señal de salida $y(t)$."
   ]
  },
  {
   "cell_type": "markdown",
   "metadata": {
    "colab_type": "text",
    "id": "98coA2j47k2W"
   },
   "source": [
    "### Comparación con la Red Eléctrica\n",
    "\n",
    "Comparando las EDO del péndulo elástico amortiguado y el [filtro pasa bajas analógico de segundo orden](http://localhost:8888/notebooks/systems_time_domain/network_analysis.ipynb#Differential-Equation), se tiene que ambas constituyen una EDO de segundo orden con coeficientes constantes. La división de la EDO del filtro pasa bajas analógico de segundo orden por la constante $C$ resulta en\n",
    "\n",
    "\\begin{equation}\n",
    "L \\frac{d^2 u_\\text{o}(t)}{dt^2} + R \\frac{d u_\\text{o}(t)}{dt} + \\frac{1}{C} u_\\text{o}(t) = \\frac{1}{C} u_\\text{i}(t)\n",
    "\\end{equation}\n",
    "\n",
    "Donde $u_\\text{i}(t)$ y $u_\\text{o}(t)$ denotan el voltaje de entrada y salida del circuito respesctivamente.\n",
    "La comparación de la EDO anterior con la del péndulo elástico amortiguado produce [equivalencia entre sistemas](https://en.wikipedia.org/wiki/System_equivalence) así\n",
    "\n",
    "|                         | Filtro pasa bajas de segundo orden | Péndulo elástico                          |\n",
    "|-------------------------|------------------------------------|-------------------------------------------|\n",
    "| Señal de entrada $x(t)$ | $u_\\text{i}(t) = F_\\text{E}(t) C$  | $F_\\text{E}(t) = \\frac{u_\\text{i}(t)}{C}$ |\n",
    "| Señal de salida $y(t)$  | $u_\\text{o}(t)$                    | $y(t)$                                    |\n",
    "|                         | $L=m$                              | $m=L$                                     |\n",
    "|                         | $R=c$                              | $c=R$                                     |\n",
    "|                         | $C=\\frac{1}{k}$                    | $k=\\frac{1}{C}$                           |"
   ]
  },
  {
   "cell_type": "markdown",
   "metadata": {
    "colab_type": "text",
    "id": "45ywl0jG7k2Z"
   },
   "source": [
    "### Respuesta al Impulso\n",
    "\n",
    "El SLTI correspondiente al péndulo puede ser caracterizado por su [respuesta al impulso](impulse_response.ipynb) $h(t)$. Se define como la salida del sistema ante una entra $x(t) = \\delta(t)$ en la entrada. La respuesta al impulso caracteriza el movimiento $y(t)$ de la masa ante un evento.\n",
    "\n",
    "Primero, se define la EDO del péndulo elástico amortiguado con `SymPy`"
   ]
  },
  {
   "cell_type": "code",
   "execution_count": 2,
   "metadata": {
    "colab": {
     "base_uri": "https://localhost:8080/",
     "height": 52
    },
    "colab_type": "code",
    "executionInfo": {
     "elapsed": 2144,
     "status": "ok",
     "timestamp": 1559490826259,
     "user": {
      "displayName": "Santiago Rincon",
      "photoUrl": "",
      "userId": "10970905932025499956"
     },
     "user_tz": 300
    },
    "id": "9hIv-Tl-7k2b",
    "outputId": "d3498f50-e6f0-4b5d-a04d-5afeca62cabc"
   },
   "outputs": [
    {
     "data": {
      "image/png": "[encoded data removed]",
      "text/latex": [
       "$$c \\frac{d}{d t} y{\\left (t \\right )} + k y{\\left (t \\right )} + m \\frac{d^{2}}{d t^{2}} y{\\left (t \\right )} = x{\\left (t \\right )}$$"
      ],
      "text/plain": [
       "                          2             \n",
       "  d                      d              \n",
       "c⋅──(y(t)) + k⋅y(t) + m⋅───(y(t)) = x(t)\n",
       "  dt                      2             \n",
       "                        dt              "
      ]
     },
     "execution_count": 2,
     "metadata": {},
     "output_type": "execute_result"
    }
   ],
   "source": [
    "%matplotlib inline\n",
    "import sympy as sym\n",
    "sym.init_printing()\n",
    "\n",
    "t, m, c, k = sym.symbols('t m c k', real=True)\n",
    "x = sym.Function('x')(t)\n",
    "y = sym.Function('y')(t)\n",
    "\n",
    "ode = sym.Eq(m*y.diff(t, 2) + c*y.diff(t) + k*y, x)\n",
    "ode"
   ]
  },
  {
   "cell_type": "markdown",
   "metadata": {
    "colab_type": "text",
    "id": "6Q8fhKUT7k2q"
   },
   "source": [
    "Se guardan los valores de las constantes en un diccionario para posteriores sustituciones"
   ]
  },
  {
   "cell_type": "code",
   "execution_count": 3,
   "metadata": {
    "colab": {
     "base_uri": "https://localhost:8080/",
     "height": 34
    },
    "colab_type": "code",
    "executionInfo": {
     "elapsed": 944,
     "status": "ok",
     "timestamp": 1559490867802,
     "user": {
      "displayName": "Santiago Rincon",
      "photoUrl": "",
      "userId": "10970905932025499956"
     },
     "user_tz": 300
    },
    "id": "OQg6lok37k2s",
    "outputId": "b6f32b17-67f1-46bf-e26b-83b5321394dd"
   },
   "outputs": [
    {
     "data": {
      "image/png": "[encoded data removed]",
      "text/latex": [
       "$$\\left \\{ c : \\frac{1}{10}, \\quad k : \\frac{5}{2}, \\quad m : 0.1\\right \\}$$"
      ],
      "text/plain": [
       "{c: 1/10, k: 5/2, m: 0.1}"
      ]
     },
     "execution_count": 3,
     "metadata": {},
     "output_type": "execute_result"
    }
   ],
   "source": [
    "mck = {m: 0.1, c: sym.Rational('.1'), k: sym.Rational('2.5')}\n",
    "mck"
   ]
  },
  {
   "cell_type": "markdown",
   "metadata": {
    "colab_type": "text",
    "id": "mol_ZwPs7k21"
   },
   "source": [
    "La respuesta al impulso se calcula al resolver la EDO"
   ]
  },
  {
   "cell_type": "code",
   "execution_count": 4,
   "metadata": {
    "colab": {
     "base_uri": "https://localhost:8080/",
     "height": 86
    },
    "colab_type": "code",
    "executionInfo": {
     "elapsed": 1860,
     "status": "ok",
     "timestamp": 1559490955039,
     "user": {
      "displayName": "Santiago Rincon",
      "photoUrl": "",
      "userId": "10970905932025499956"
     },
     "user_tz": 300
    },
    "id": "k7dmJ1Os7k23",
    "outputId": "85c4bcb8-b6aa-4751-beaa-a7ee23999f54"
   },
   "outputs": [
    {
     "data": {
      "image/png": "[encoded data removed]",
      "text/latex": [
       "$$h{\\left (t \\right )} = C_{1} e^{\\frac{t \\left(- c - \\sqrt{c^{2} - 4 k m}\\right)}{2 m}} + C_{2} e^{\\frac{t \\left(- c + \\sqrt{c^{2} - 4 k m}\\right)}{2 m}} - \\frac{e^{\\frac{t \\left(- c - \\sqrt{c^{2} - 4 k m}\\right)}{2 m}} \\theta\\left(t\\right)}{\\sqrt{c^{2} - 4 k m}} + \\frac{e^{\\frac{t \\left(- c + \\sqrt{c^{2} - 4 k m}\\right)}{2 m}} \\theta\\left(t\\right)}{\\sqrt{c^{2} - 4 k m}}$$"
      ],
      "text/plain": [
       "                                                                        ⎛     \n",
       "             ⎛        ____________⎞         ⎛        ____________⎞      ⎜     \n",
       "             ⎜       ╱  2         ⎟         ⎜       ╱  2         ⎟    t⋅⎝-c - \n",
       "           t⋅⎝-c - ╲╱  c  - 4⋅k⋅m ⎠       t⋅⎝-c + ╲╱  c  - 4⋅k⋅m ⎠    ────────\n",
       "           ────────────────────────       ────────────────────────            \n",
       "                     2⋅m                            2⋅m              ℯ        \n",
       "h(t) = C₁⋅ℯ                         + C₂⋅ℯ                         - ─────────\n",
       "                                                                              \n",
       "                                                                              \n",
       "                                                                              \n",
       "\n",
       "   ____________⎞                   ⎛        ____________⎞             \n",
       "  ╱  2         ⎟                   ⎜       ╱  2         ⎟             \n",
       "╲╱  c  - 4⋅k⋅m ⎠                 t⋅⎝-c + ╲╱  c  - 4⋅k⋅m ⎠             \n",
       "────────────────                 ────────────────────────             \n",
       "  2⋅m                                      2⋅m                        \n",
       "                ⋅Heaviside(t)   ℯ                        ⋅Heaviside(t)\n",
       "───────────────────────────── + ──────────────────────────────────────\n",
       "     ____________                             ____________            \n",
       "    ╱  2                                     ╱  2                     \n",
       "  ╲╱  c  - 4⋅k⋅m                           ╲╱  c  - 4⋅k⋅m             "
      ]
     },
     "execution_count": 4,
     "metadata": {},
     "output_type": "execute_result"
    }
   ],
   "source": [
    "solution_h = sym.dsolve(ode.subs(x, sym.DiracDelta(t)).subs(y, sym.Function('h')(t)))\n",
    "solution_h"
   ]
  },
  {
   "cell_type": "markdown",
   "metadata": {
    "colab_type": "text",
    "id": "iAwXOyCd7k3C"
   },
   "source": [
    "Las constantes de integración $C_1$ y $C_2$ se determinan a partir de las condiciones iniciales $y(t) = 0$ y $\\frac{d y(t)}{dt}=0$ para $t<0$. "
   ]
  },
  {
   "cell_type": "code",
   "execution_count": 5,
   "metadata": {
    "colab": {
     "base_uri": "https://localhost:8080/",
     "height": 34
    },
    "colab_type": "code",
    "executionInfo": {
     "elapsed": 2109,
     "status": "ok",
     "timestamp": 1559491032976,
     "user": {
      "displayName": "Santiago Rincon",
      "photoUrl": "",
      "userId": "10970905932025499956"
     },
     "user_tz": 300
    },
    "id": "WOiIJDqA7k3E",
    "outputId": "6148b1b4-3824-4ab3-b4a1-6c2ded1d3033"
   },
   "outputs": [
    {
     "data": {
      "image/png": "[encoded data removed]",
      "text/latex": [
       "$$\\left \\{ C_{1} : 0, \\quad C_{2} : 0\\right \\}$$"
      ],
      "text/plain": [
       "{C₁: 0, C₂: 0}"
      ]
     },
     "execution_count": 5,
     "metadata": {},
     "output_type": "execute_result"
    }
   ],
   "source": [
    "integration_constants = sym.solve( (solution_h.rhs.limit(t, 0, '-'), solution_h.rhs.diff(t).limit(t, 0, '-')), ['C1', 'C2'] )\n",
    "integration_constants"
   ]
  },
  {
   "cell_type": "markdown",
   "metadata": {
    "colab_type": "text",
    "id": "aY7TZjU27k3N"
   },
   "source": [
    "La sustitución de los valores de las constantes de integración $C_1$ y $C_2$ en el resultado anterior, produce la respuesta al impulso del sistema mecánico"
   ]
  },
  {
   "cell_type": "code",
   "execution_count": 6,
   "metadata": {
    "colab": {
     "base_uri": "https://localhost:8080/",
     "height": 69
    },
    "colab_type": "code",
    "executionInfo": {
     "elapsed": 876,
     "status": "ok",
     "timestamp": 1559491183100,
     "user": {
      "displayName": "Santiago Rincon",
      "photoUrl": "",
      "userId": "10970905932025499956"
     },
     "user_tz": 300
    },
    "id": "BvMdOUkj7k3P",
    "outputId": "4a384c26-444d-483d-baa4-ef6ffe151700"
   },
   "outputs": [
    {
     "data": {
      "image/png": "[encoded data removed]",
      "text/latex": [
       "$$h{\\left (t \\right )} = - \\frac{e^{\\frac{t \\left(- c - \\sqrt{c^{2} - 4 k m}\\right)}{2 m}} \\theta\\left(t\\right)}{\\sqrt{c^{2} - 4 k m}} + \\frac{e^{\\frac{t \\left(- c + \\sqrt{c^{2} - 4 k m}\\right)}{2 m}} \\theta\\left(t\\right)}{\\sqrt{c^{2} - 4 k m}}$$"
      ],
      "text/plain": [
       "            ⎛        ____________⎞                   ⎛        ____________⎞   \n",
       "            ⎜       ╱  2         ⎟                   ⎜       ╱  2         ⎟   \n",
       "          t⋅⎝-c - ╲╱  c  - 4⋅k⋅m ⎠                 t⋅⎝-c + ╲╱  c  - 4⋅k⋅m ⎠   \n",
       "          ────────────────────────                 ────────────────────────   \n",
       "                    2⋅m                                      2⋅m              \n",
       "         ℯ                        ⋅Heaviside(t)   ℯ                        ⋅He\n",
       "h(t) = - ────────────────────────────────────── + ────────────────────────────\n",
       "                       ____________                             ____________  \n",
       "                      ╱  2                                     ╱  2           \n",
       "                    ╲╱  c  - 4⋅k⋅m                           ╲╱  c  - 4⋅k⋅m   \n",
       "\n",
       "          \n",
       "          \n",
       "          \n",
       "          \n",
       "          \n",
       "aviside(t)\n",
       "──────────\n",
       "          \n",
       "          \n",
       "          "
      ]
     },
     "execution_count": 6,
     "metadata": {},
     "output_type": "execute_result"
    }
   ],
   "source": [
    "h = solution_h.subs(integration_constants)\n",
    "h"
   ]
  },
  {
   "cell_type": "markdown",
   "metadata": {
    "colab_type": "text",
    "id": "jVWDPU6W7k3Z"
   },
   "source": [
    "Se grafica la respuesta para los valores de $m$, $c$ y $k$ definidas anteriormente"
   ]
  },
  {
   "cell_type": "code",
   "execution_count": 7,
   "metadata": {
    "colab": {
     "base_uri": "https://localhost:8080/",
     "height": 261
    },
    "colab_type": "code",
    "executionInfo": {
     "elapsed": 2573,
     "status": "ok",
     "timestamp": 1559491243872,
     "user": {
      "displayName": "Santiago Rincon",
      "photoUrl": "",
      "userId": "10970905932025499956"
     },
     "user_tz": 300
    },
    "id": "_gA-N1v47k3b",
    "outputId": "d320f633-1844-455d-cf43-e748a7e8f5af"
   },
   "outputs": [
    {
     "data": {
      "image/png": "[encoded data removed]",
      "text/plain": [
       "<Figure size 432x288 with 1 Axes>"
      ]
     },
     "metadata": {
      "needs_background": "light"
     },
     "output_type": "display_data"
    }
   ],
   "source": [
    "sym.plot(h.rhs.subs(mck), (t,0,12), ylabel=r'h(t)');"
   ]
  },
  {
   "cell_type": "markdown",
   "metadata": {
    "colab_type": "text",
    "id": "RBSU-Q3l7k3m"
   },
   "source": [
    "### Función de Transferencia\n",
    "\n",
    "Para una señal exponencial de entrada $x(t)=e^{st}$, la [función de transferencia](eigenfunctions.ipynb#Transfer-Function) $H(s)$ representa el peso de la entrada, tal que $y(t) = H(s) \\cdot e^{s t}$. La función de transferencia se obtiene al introducir $x(t)$ y $y(t)$ en la EDO y resolver para $H(s)$"
   ]
  },
  {
   "cell_type": "code",
   "execution_count": 8,
   "metadata": {
    "colab": {
     "base_uri": "https://localhost:8080/",
     "height": 34
    },
    "colab_type": "code",
    "executionInfo": {
     "elapsed": 525,
     "status": "ok",
     "timestamp": 1559491564288,
     "user": {
      "displayName": "Santiago Rincon",
      "photoUrl": "",
      "userId": "10970905932025499956"
     },
     "user_tz": 300
    },
    "id": "8SK-CphO7k3o",
    "outputId": "cb5854a6-b2c0-49ce-9d3e-f3b9174e59a4"
   },
   "outputs": [
    {
     "data": {
      "image/png": "[encoded data removed]",
      "text/latex": [
       "$$\\frac{1}{c s + k + m s^{2}}$$"
      ],
      "text/plain": [
       "      1       \n",
       "──────────────\n",
       "             2\n",
       "c⋅s + k + m⋅s "
      ]
     },
     "execution_count": 8,
     "metadata": {},
     "output_type": "execute_result"
    }
   ],
   "source": [
    "s = sym.symbols('s')\n",
    "H = sym.Function('H')(s)\n",
    "\n",
    "H, = sym.solve(ode.subs(x, sym.exp(s*t)).subs(y, H*sym.exp(s*t)).doit(), H)\n",
    "H"
   ]
  },
  {
   "cell_type": "markdown",
   "metadata": {
    "colab_type": "text",
    "id": "DxCLfu7e7k3v"
   },
   "source": [
    "Las características de transferencia de un SLTI para señales exponenciales armónicas $e^{j\\omega}=\\cos(\\omega t)+j\\sin(\\omega t)$ son de especial interés en el análisis de sistemas resonantes. Se pueden derivar de $H(s)$ sustituyendo la frecuencia compleja $s$ por $s=j\\omega$. La función de transferencia resultante $H(j\\omega)$ proporciona la atenuación y la fase que el sistema agrega a una señal de entrada armónica."
   ]
  },
  {
   "cell_type": "code",
   "execution_count": 9,
   "metadata": {
    "colab": {
     "base_uri": "https://localhost:8080/",
     "height": 34
    },
    "colab_type": "code",
    "executionInfo": {
     "elapsed": 508,
     "status": "ok",
     "timestamp": 1559491565874,
     "user": {
      "displayName": "Santiago Rincon",
      "photoUrl": "",
      "userId": "10970905932025499956"
     },
     "user_tz": 300
    },
    "id": "M71QaIcm7k3w",
    "outputId": "29569e0f-4905-4745-b07f-c248514744da"
   },
   "outputs": [
    {
     "data": {
      "image/png": "[encoded data removed]",
      "text/latex": [
       "$$\\frac{1}{i c \\omega + k - m \\omega^{2}}$$"
      ],
      "text/plain": [
       "       1        \n",
       "────────────────\n",
       "               2\n",
       "ⅈ⋅c⋅ω + k - m⋅ω "
      ]
     },
     "execution_count": 9,
     "metadata": {},
     "output_type": "execute_result"
    }
   ],
   "source": [
    "w = sym.symbols('omega', real=True)\n",
    "\n",
    "Hjw = H.subs(s, sym.I * w)\n",
    "Hjw"
   ]
  },
  {
   "cell_type": "markdown",
   "metadata": {
    "colab_type": "text",
    "id": "8b87wEpL7k34"
   },
   "source": [
    "La magnitud de la función de transferencia $|H(j\\omega)|$ se grafica para los valores de los parámetros dados anteriormente"
   ]
  },
  {
   "cell_type": "code",
   "execution_count": 10,
   "metadata": {
    "colab": {},
    "colab_type": "code",
    "id": "HiYpg_Vd7k36",
    "outputId": "5aa8037e-365b-4b69-ead5-4fb8d1456e56"
   },
   "outputs": [
    {
     "data": {
      "image/png": "[encoded data removed]",
      "text/plain": [
       "<Figure size 432x288 with 1 Axes>"
      ]
     },
     "metadata": {
      "needs_background": "light"
     },
     "output_type": "display_data"
    }
   ],
   "source": [
    "sym.plot(abs(Hjw.subs(mck)), (w, -15, 15), ylabel=r'$|H(j \\omega)|$', xlabel=r'$\\omega$');"
   ]
  },
  {
   "cell_type": "markdown",
   "metadata": {
    "colab_type": "text",
    "id": "U82rDJ-J7k4B"
   },
   "source": [
    "Al inspeccionar la magnitud de la función de transferencia, se hace evidente que el péndulo del resorte amortiguado muestra resonancias (picos máximos) para dos frecuencias angulares específicas. Estas frecuencias de resonancia $\\omega_0$ se calculan desde los valores extremos de $|H(j\\omega)|$. Primero se calcula la derivada de $|H(j\\omega)|$ con respecto a $\\omega$ y luego se igual a cero"
   ]
  },
  {
   "cell_type": "code",
   "execution_count": 11,
   "metadata": {
    "colab": {
     "base_uri": "https://localhost:8080/",
     "height": 69
    },
    "colab_type": "code",
    "executionInfo": {
     "elapsed": 1687,
     "status": "ok",
     "timestamp": 1559491851514,
     "user": {
      "displayName": "Santiago Rincon",
      "photoUrl": "",
      "userId": "10970905932025499956"
     },
     "user_tz": 300
    },
    "id": "JS9oWlIZ7k4D",
    "outputId": "57f24884-3b53-456d-a14f-9afeb7316bfb"
   },
   "outputs": [
    {
     "data": {
      "image/png": "[encoded data removed]",
      "text/latex": [
       "$$\\left [ 0, \\quad - \\frac{\\sqrt{- \\frac{c^{2}}{2} + k m}}{m}, \\quad \\frac{\\sqrt{- \\frac{c^{2}}{2} + k m}}{m}\\right ]$$"
      ],
      "text/plain": [
       "⎡         ____________        ____________⎤\n",
       "⎢        ╱    2              ╱    2       ⎥\n",
       "⎢       ╱    c              ╱    c        ⎥\n",
       "⎢   -  ╱   - ── + k⋅m      ╱   - ── + k⋅m ⎥\n",
       "⎢    ╲╱      2           ╲╱      2        ⎥\n",
       "⎢0, ───────────────────, ─────────────────⎥\n",
       "⎣            m                   m        ⎦"
      ]
     },
     "execution_count": 11,
     "metadata": {},
     "output_type": "execute_result"
    }
   ],
   "source": [
    "extrema = sym.solve(sym.Eq(sym.diff(abs(Hjw), w),0),w)\n",
    "extrema"
   ]
  },
  {
   "cell_type": "markdown",
   "metadata": {
    "colab_type": "text",
    "id": "BUr9MQz17k4L"
   },
   "source": [
    "Para los máximos de la función de transferencia solo es de interés el segundo y el tercer extremo"
   ]
  },
  {
   "cell_type": "code",
   "execution_count": 12,
   "metadata": {
    "colab": {
     "base_uri": "https://localhost:8080/",
     "height": 34
    },
    "colab_type": "code",
    "executionInfo": {
     "elapsed": 716,
     "status": "ok",
     "timestamp": 1559491904034,
     "user": {
      "displayName": "Santiago Rincon",
      "photoUrl": "",
      "userId": "10970905932025499956"
     },
     "user_tz": 300
    },
    "id": "SY5BAevS7k4N",
    "outputId": "aa5e680a-3023-41b1-9f70-99c5cfb3c50c"
   },
   "outputs": [
    {
     "data": {
      "image/png": "[encoded data removed]",
      "text/latex": [
       "$$\\left [ - \\frac{\\sqrt{- \\frac{c^{2}}{2} + k m}}{m}, \\quad \\frac{\\sqrt{- \\frac{c^{2}}{2} + k m}}{m}\\right ]$$"
      ],
      "text/plain": [
       "⎡      ____________        ____________⎤\n",
       "⎢     ╱    2              ╱    2       ⎥\n",
       "⎢    ╱    c              ╱    c        ⎥\n",
       "⎢-  ╱   - ── + k⋅m      ╱   - ── + k⋅m ⎥\n",
       "⎢ ╲╱      2           ╲╱      2        ⎥\n",
       "⎢───────────────────, ─────────────────⎥\n",
       "⎣         m                   m        ⎦"
      ]
     },
     "execution_count": 12,
     "metadata": {},
     "output_type": "execute_result"
    }
   ],
   "source": [
    "w0 = extrema[1:3]\n",
    "w0"
   ]
  },
  {
   "cell_type": "markdown",
   "metadata": {
    "colab_type": "text",
    "id": "3z6o5V4w7k4W"
   },
   "source": [
    "Las frecuencias de resonancia se calculan para los valores de $m$, $c$ y $k$ dados anteriormente"
   ]
  },
  {
   "cell_type": "code",
   "execution_count": 13,
   "metadata": {
    "colab": {
     "base_uri": "https://localhost:8080/",
     "height": 34
    },
    "colab_type": "code",
    "executionInfo": {
     "elapsed": 580,
     "status": "ok",
     "timestamp": 1559491955214,
     "user": {
      "displayName": "Santiago Rincon",
      "photoUrl": "",
      "userId": "10970905932025499956"
     },
     "user_tz": 300
    },
    "id": "h0iYkA-W7k4X",
    "outputId": "0f0cb370-f80b-4d29-da85-b4dd79a5565a"
   },
   "outputs": [
    {
     "data": {
      "image/png": "[encoded data removed]",
      "text/latex": [
       "$$\\left [ -4.94974746830583, \\quad 4.94974746830583\\right ]$$"
      ],
      "text/plain": [
       "[-4.94974746830583, 4.94974746830583]"
      ]
     },
     "execution_count": 13,
     "metadata": {},
     "output_type": "execute_result"
    }
   ],
   "source": [
    "[w00.subs(mck) for w00 in w0]"
   ]
  },
  {
   "cell_type": "markdown",
   "metadata": {
    "colab_type": "text",
    "id": "BiebSBR67k4c"
   },
   "source": [
    "La fase de la función de transferencia $\\varphi (j\\omega)$ se calcula y grafica para los valores específicos de los elementos dados anteriormente"
   ]
  },
  {
   "cell_type": "code",
   "execution_count": 14,
   "metadata": {
    "colab": {
     "base_uri": "https://localhost:8080/",
     "height": 265
    },
    "colab_type": "code",
    "executionInfo": {
     "elapsed": 927,
     "status": "ok",
     "timestamp": 1559492000343,
     "user": {
      "displayName": "Santiago Rincon",
      "photoUrl": "",
      "userId": "10970905932025499956"
     },
     "user_tz": 300
    },
    "id": "rzvMK_Qh7k4d",
    "outputId": "38f5be03-86ff-4ceb-c2a6-7b545a0ade96"
   },
   "outputs": [
    {
     "data": {
      "image/png": "[encoded data removed]",
      "text/plain": [
       "<Figure size 432x288 with 1 Axes>"
      ]
     },
     "metadata": {
      "needs_background": "light"
     },
     "output_type": "display_data"
    }
   ],
   "source": [
    "phi = sym.arg(Hjw)\n",
    "sym.plot(phi.subs(mck), (w, -15, 15), ylabel=r'$\\varphi(j \\omega)$', xlabel=r'$\\omega$');"
   ]
  },
  {
   "cell_type": "markdown",
   "metadata": {
    "colab_type": "text",
    "id": "TW8mdAPU7k4l"
   },
   "source": [
    "**Ejercicio**\n",
    "\n",
    "* Cambie el coeficiente de amortiguamiento $c$ del péndulo elástico e indique cómo cambia la magnitud y la fase de la función de transferencia $H(j\\omega)$.\n",
    "\n",
    "* Qué relación hay entre la frecuencia de oscilación y las frecuencias de resonancia?"
   ]
  },
  {
   "cell_type": "markdown",
   "metadata": {},
   "source": [
    "**Solución**\n",
    "* Vamos a cambiar nuestro coeficiente de amortiguamiento por 1/20 y miraremos como cambia la magnitud y la fase de $H(j\\omega)$."
   ]
  },
  {
   "cell_type": "code",
   "execution_count": 15,
   "metadata": {},
   "outputs": [
    {
     "data": {
      "image/png": "[encoded data removed]",
      "text/latex": [
       "$$\\left \\{ c : \\frac{1}{20}, \\quad k : \\frac{5}{2}, \\quad m : 0.1\\right \\}$$"
      ],
      "text/plain": [
       "{c: 1/20, k: 5/2, m: 0.1}"
      ]
     },
     "execution_count": 15,
     "metadata": {},
     "output_type": "execute_result"
    }
   ],
   "source": [
    "%matplotlib inline\n",
    "import sympy as sym\n",
    "sym.init_printing()\n",
    "\n",
    "t, m, c, k = sym.symbols('t m c k', real=True)\n",
    "x = sym.Function('x')(t)\n",
    "y = sym.Function('y')(t)\n",
    "\n",
    "ode = sym.Eq(m*y.diff(t, 2) + c*y.diff(t) + k*y, x)\n",
    "ode #planteamos a EDO\n",
    "\n",
    "mck = {m: 0.1, c: sym.Rational('.05'), k: sym.Rational('2.5')}\n",
    "mck #Damos valores a m,k y c (utilizando nuestro nuevo c 0.05)"
   ]
  },
  {
   "cell_type": "code",
   "execution_count": 16,
   "metadata": {},
   "outputs": [
    {
     "data": {
      "image/png": "[encoded data removed]",
      "text/latex": [
       "$$h{\\left (t \\right )} = C_{1} e^{\\frac{t \\left(- c - \\sqrt{c^{2} - 4 k m}\\right)}{2 m}} + C_{2} e^{\\frac{t \\left(- c + \\sqrt{c^{2} - 4 k m}\\right)}{2 m}} - \\frac{e^{\\frac{t \\left(- c - \\sqrt{c^{2} - 4 k m}\\right)}{2 m}} \\theta\\left(t\\right)}{\\sqrt{c^{2} - 4 k m}} + \\frac{e^{\\frac{t \\left(- c + \\sqrt{c^{2} - 4 k m}\\right)}{2 m}} \\theta\\left(t\\right)}{\\sqrt{c^{2} - 4 k m}}$$"
      ],
      "text/plain": [
       "                                                                        ⎛     \n",
       "             ⎛        ____________⎞         ⎛        ____________⎞      ⎜     \n",
       "             ⎜       ╱  2         ⎟         ⎜       ╱  2         ⎟    t⋅⎝-c - \n",
       "           t⋅⎝-c - ╲╱  c  - 4⋅k⋅m ⎠       t⋅⎝-c + ╲╱  c  - 4⋅k⋅m ⎠    ────────\n",
       "           ────────────────────────       ────────────────────────            \n",
       "                     2⋅m                            2⋅m              ℯ        \n",
       "h(t) = C₁⋅ℯ                         + C₂⋅ℯ                         - ─────────\n",
       "                                                                              \n",
       "                                                                              \n",
       "                                                                              \n",
       "\n",
       "   ____________⎞                   ⎛        ____________⎞             \n",
       "  ╱  2         ⎟                   ⎜       ╱  2         ⎟             \n",
       "╲╱  c  - 4⋅k⋅m ⎠                 t⋅⎝-c + ╲╱  c  - 4⋅k⋅m ⎠             \n",
       "────────────────                 ────────────────────────             \n",
       "  2⋅m                                      2⋅m                        \n",
       "                ⋅Heaviside(t)   ℯ                        ⋅Heaviside(t)\n",
       "───────────────────────────── + ──────────────────────────────────────\n",
       "     ____________                             ____________            \n",
       "    ╱  2                                     ╱  2                     \n",
       "  ╲╱  c  - 4⋅k⋅m                           ╲╱  c  - 4⋅k⋅m             "
      ]
     },
     "execution_count": 16,
     "metadata": {},
     "output_type": "execute_result"
    }
   ],
   "source": [
    "solution_h = sym.dsolve(ode.subs(x, sym.DiracDelta(t)).subs(y, sym.Function('h')(t)))\n",
    "solution_h #Solucionamos la EDO"
   ]
  },
  {
   "cell_type": "code",
   "execution_count": 17,
   "metadata": {},
   "outputs": [
    {
     "data": {
      "image/png": "[encoded data removed]",
      "text/latex": [
       "$$h{\\left (t \\right )} = - \\frac{e^{\\frac{t \\left(- c - \\sqrt{c^{2} - 4 k m}\\right)}{2 m}} \\theta\\left(t\\right)}{\\sqrt{c^{2} - 4 k m}} + \\frac{e^{\\frac{t \\left(- c + \\sqrt{c^{2} - 4 k m}\\right)}{2 m}} \\theta\\left(t\\right)}{\\sqrt{c^{2} - 4 k m}}$$"
      ],
      "text/plain": [
       "            ⎛        ____________⎞                   ⎛        ____________⎞   \n",
       "            ⎜       ╱  2         ⎟                   ⎜       ╱  2         ⎟   \n",
       "          t⋅⎝-c - ╲╱  c  - 4⋅k⋅m ⎠                 t⋅⎝-c + ╲╱  c  - 4⋅k⋅m ⎠   \n",
       "          ────────────────────────                 ────────────────────────   \n",
       "                    2⋅m                                      2⋅m              \n",
       "         ℯ                        ⋅Heaviside(t)   ℯ                        ⋅He\n",
       "h(t) = - ────────────────────────────────────── + ────────────────────────────\n",
       "                       ____________                             ____________  \n",
       "                      ╱  2                                     ╱  2           \n",
       "                    ╲╱  c  - 4⋅k⋅m                           ╲╱  c  - 4⋅k⋅m   \n",
       "\n",
       "          \n",
       "          \n",
       "          \n",
       "          \n",
       "          \n",
       "aviside(t)\n",
       "──────────\n",
       "          \n",
       "          \n",
       "          "
      ]
     },
     "execution_count": 17,
     "metadata": {},
     "output_type": "execute_result"
    }
   ],
   "source": [
    "integration_constants = sym.solve( (solution_h.rhs.limit(t, 0, '-'), solution_h.rhs.diff(t).limit(t, 0, '-')), ['C1', 'C2'] )\n",
    "integration_constants\n",
    "h = solution_h.subs(integration_constants)\n",
    "h #Hacemos 0 las constantes de integración \n"
   ]
  },
  {
   "cell_type": "code",
   "execution_count": 18,
   "metadata": {},
   "outputs": [
    {
     "data": {
      "image/png": "[encoded data removed]",
      "text/plain": [
       "<Figure size 432x288 with 1 Axes>"
      ]
     },
     "metadata": {
      "needs_background": "light"
     },
     "output_type": "display_data"
    }
   ],
   "source": [
    "sym.plot(h.rhs.subs(mck), (t,0,12), ylabel=r'h(t)'); #Graficamos nuestro nuevo sistema "
   ]
  },
  {
   "cell_type": "markdown",
   "metadata": {},
   "source": [
    "Podemos observar la diferencia entre las dos gráficas y es que al variar el coeficiente de amortiguamiento $c$ en nuestro caso al hacerlo más pequeño. lo que logramos es que el sistema oscile más, concluyendo por lógica que a mayor coeficiente de amotiguamiento menor oscilaciones va a tener el sistema"
   ]
  },
  {
   "cell_type": "code",
   "execution_count": 19,
   "metadata": {},
   "outputs": [
    {
     "data": {
      "image/png": "[encoded data removed]",
      "text/latex": [
       "$$\\frac{1}{c s + k + m s^{2}}$$"
      ],
      "text/plain": [
       "      1       \n",
       "──────────────\n",
       "             2\n",
       "c⋅s + k + m⋅s "
      ]
     },
     "execution_count": 19,
     "metadata": {},
     "output_type": "execute_result"
    }
   ],
   "source": [
    "s = sym.symbols('s')\n",
    "H = sym.Function('H')(s)\n",
    "\n",
    "H, = sym.solve(ode.subs(x, sym.exp(s*t)).subs(y, H*sym.exp(s*t)).doit(), H)\n",
    "H #Función de transferencia "
   ]
  },
  {
   "cell_type": "code",
   "execution_count": 20,
   "metadata": {},
   "outputs": [
    {
     "data": {
      "image/png": "[encoded data removed]",
      "text/latex": [
       "$$\\frac{1}{i c \\omega + k - m \\omega^{2}}$$"
      ],
      "text/plain": [
       "       1        \n",
       "────────────────\n",
       "               2\n",
       "ⅈ⋅c⋅ω + k - m⋅ω "
      ]
     },
     "execution_count": 20,
     "metadata": {},
     "output_type": "execute_result"
    }
   ],
   "source": [
    "w = sym.symbols('omega', real=True)\n",
    "\n",
    "Hjw = H.subs(s, sym.I * w)\n",
    "Hjw"
   ]
  },
  {
   "cell_type": "code",
   "execution_count": 21,
   "metadata": {},
   "outputs": [
    {
     "data": {
      "image/png": "[encoded data removed]",
      "text/plain": [
       "<Figure size 432x288 with 1 Axes>"
      ]
     },
     "metadata": {
      "needs_background": "light"
     },
     "output_type": "display_data"
    }
   ],
   "source": [
    "sym.plot(abs(Hjw.subs(mck)), (w, -15, 15), ylabel=r'$|H(j \\omega)|$', xlabel=r'$\\omega$');"
   ]
  },
  {
   "cell_type": "markdown",
   "metadata": {},
   "source": [
    "Si observamos la gráfica la magnitud de nuetstra función de transferencia se duplicó (Con respecto a la original) ya que hicimos nuestro $c$ 1/2 de el $c$ original, la fase también cambia y en nuestro caso se hace más pequeña"
   ]
  },
  {
   "cell_type": "markdown",
   "metadata": {},
   "source": [
    "* Ahora hablaremos de frecuencia de resonancia. Es aquella frecuencia caacterística de un cuerpo o un sistema que alcanza el grado máximo de oscilación, todo cuerpo o sistema tiene una, o varias, frecuencias características. Cuando un sistema es excitado a una de sus frecuencias características, su vibración es la máxima posible. El aumento de vibración se produce porque a estas frecuencias el sistema entra en resonancia. Por ende, podemos concluir que la frecuencia de resonancia son los puntos máximos de la frecuencia de oscilación "
   ]
  },
  {
   "cell_type": "markdown",
   "metadata": {
    "colab_type": "text",
    "id": "MGMpUcps7k4m"
   },
   "source": [
    "### Aplicación: Aislamiento de vibraciones\n",
    "\n",
    "Una aplicación del anterior ejemplo es el diseño de [aislamiento de vibraciones](https://en.wikipedia.org/wiki/Vibration_isolation) mediante un péndulo elástico amortiguado. Un ejemplo típico es una máquina de rotación con masa $m$ que tiene algún tipo de desequilibrio. Asumiendo que el desequilibrio puede ser modelado como una masa en rotación, la fuerza externa $F_\\text{E}(t)$ está dada por la componente vertical de su [fuerza centrífuga](https://en.wikipedia.org/wiki/Centrifugal_force)\n",
    "\n",
    "\\begin{equation}\n",
    "F_\\text{E}(t) = F_0 \\sin(\\omega t) = F_0 \\cdot \\Im \\{e^{j \\omega t} \\}\n",
    "\\end{equation}\n",
    "\n",
    "Donde $\\omega$ denota la frecuencia angular de la máquina rotatoria y\n",
    "\n",
    "\\begin{equation}\n",
    "F_0 = m_\\text{I} r \\omega^2 \n",
    "\\end{equation}\n",
    "\n",
    "Donde la amplitud de la fuerza con $m_\\text{I}$ denota la masa del desequilibrio y $r$ el radio de su órbita circular. Dado que $e^{j \\omega t}$ es una función propia de un SLTI, el resultado del desplazamiento está dado por\n",
    "\n",
    "\\begin{equation}\n",
    "y(t) = F_0 \\cdot \\Im \\{e^{j \\omega t} H(j \\omega) \\}\n",
    "\\end{equation}\n",
    "\n",
    "El objetivo del aislamiento de vibraciones es mantener la magnitud del desplazamiento lo más baja posible."
   ]
  },
  {
   "cell_type": "markdown",
   "metadata": {
    "colab_type": "text",
    "id": "DePiEIyp7k4n"
   },
   "source": [
    "**Ejercicio**\n",
    "\n",
    "* Calcule y grafique el desplazamiento para valores dados de $m_\\text{I}$ y $r$.\n",
    "\n",
    "* ¿Para qué frecuencias angulares $\\omega$ se tiene una mayor magnitud del desplazamiento? ¿Cómo es la relación de fase entre la fuerza externa $F_\\text{E}(t)$ y el desplazamiento $y(t)$ en estas frecuencias?\n",
    "\n",
    "* ¿Cómo deben elegirse las frecuencias de resonancia $\\omega_0$ del péndulo de resorte para obtener un buen aislamiento de vibraciones para una máquina que gira con frecuencia angular $\\omega$? ¿Cómo es la relación de fase entre la fuerza externa $F_\\text{E}(t) $ y el desplazamiento $y(t)$ a esta frecuencia?"
   ]
  },
  {
   "cell_type": "code",
   "execution_count": 22,
   "metadata": {},
   "outputs": [
    {
     "data": {
      "image/png": "[encoded data removed]",
      "text/latex": [
       "$$\\frac{e^{s t}}{c s + k + m s^{2}}$$"
      ],
      "text/plain": [
       "      s⋅t     \n",
       "     ℯ        \n",
       "──────────────\n",
       "             2\n",
       "c⋅s + k + m⋅s "
      ]
     },
     "execution_count": 22,
     "metadata": {},
     "output_type": "execute_result"
    }
   ],
   "source": [
    "m1, r, w1 = sym.symbols('m1 r w1', real=True)\n",
    "w = sym.symbols('omega', real=True)\n",
    "H = sym.exp(s*t)*H\n",
    "\n",
    "Fo = m1*r*(w1**2)\n",
    "\n",
    "H"
   ]
  },
  {
   "cell_type": "code",
   "execution_count": 24,
   "metadata": {},
   "outputs": [
    {
     "data": {
      "image/png": "[encoded data removed]",
      "text/latex": [
       "$$\\left ( \\frac{1}{0.1 s^{2} + \\frac{s}{20} + \\frac{5}{2}}, \\quad e^{s t}\\right )$$"
      ],
      "text/plain": [
       "⎛       1          s⋅t⎞\n",
       "⎜───────────────, ℯ   ⎟\n",
       "⎜     2   s    5      ⎟\n",
       "⎜0.1⋅s  + ── + ─      ⎟\n",
       "⎝         20   2      ⎠"
      ]
     },
     "execution_count": 24,
     "metadata": {},
     "output_type": "execute_result"
    }
   ],
   "source": [
    "H1 = H.subs(mck)\n",
    "H1.args"
   ]
  },
  {
   "cell_type": "code",
   "execution_count": 25,
   "metadata": {},
   "outputs": [
    {
     "data": {
      "image/png": "[encoded data removed]",
      "text/latex": [
       "$$2.00250469728704 m_{1} r w_{1}^{2} e^{- 0.25 t} \\sin{\\left (4.99374608885954 t \\right )} \\theta\\left(t\\right)$$"
      ],
      "text/plain": [
       "                        2  -0.25⋅t                                     \n",
       "2.00250469728704⋅m₁⋅r⋅w₁ ⋅ℯ       ⋅sin(4.99374608885954⋅t)⋅Heaviside(t)"
      ]
     },
     "execution_count": 25,
     "metadata": {},
     "output_type": "execute_result"
    }
   ],
   "source": [
    "TI = sym.inverse_laplace_transform(H1.args[0], s, t).simplify()\n",
    "\n",
    "Y = Fo*TI\n",
    "\n",
    "Y\n"
   ]
  },
  {
   "cell_type": "code",
   "execution_count": 26,
   "metadata": {},
   "outputs": [
    {
     "data": {
      "image/png": "[encoded data removed]",
      "text/latex": [
       "$$\\left \\{ m_{1} : 0.1, \\quad r : 2, \\quad w_{1} : \\frac{5}{2}\\right \\}$$"
      ],
      "text/plain": [
       "{m₁: 0.1, r: 2, w₁: 5/2}"
      ]
     },
     "execution_count": 26,
     "metadata": {},
     "output_type": "execute_result"
    }
   ],
   "source": [
    "val = {m1: 0.1, r: 2, w1: sym.Rational('2.5')} #asignación de valores \n",
    "val\n"
   ]
  },
  {
   "cell_type": "code",
   "execution_count": 28,
   "metadata": {},
   "outputs": [
    {
     "data": {
      "image/png": "[encoded data removed]",
      "text/latex": [
       "$$2.50313087160879 e^{- 0.25 t} \\sin{\\left (4.99374608885954 t \\right )} \\theta\\left(t\\right)$$"
      ],
      "text/plain": [
       "                  -0.25⋅t                                     \n",
       "2.50313087160879⋅ℯ       ⋅sin(4.99374608885954⋅t)⋅Heaviside(t)"
      ]
     },
     "execution_count": 28,
     "metadata": {},
     "output_type": "execute_result"
    }
   ],
   "source": [
    "Ye = Y.subs(val)\n",
    "Ye\n"
   ]
  },
  {
   "cell_type": "code",
   "execution_count": 29,
   "metadata": {},
   "outputs": [
    {
     "data": {
      "image/png": "[encoded data removed]",
      "text/plain": [
       "<Figure size 432x288 with 1 Axes>"
      ]
     },
     "metadata": {
      "needs_background": "light"
     },
     "output_type": "display_data"
    }
   ],
   "source": [
    "sym.plot(Ye, (t, 0, 20));\n"
   ]
  },
  {
   "cell_type": "markdown",
   "metadata": {},
   "source": [
    "**Función de transferencia**"
   ]
  },
  {
   "cell_type": "code",
   "execution_count": 30,
   "metadata": {},
   "outputs": [
    {
     "data": {
      "image/png": "[encoded data removed]",
      "text/latex": [
       "$$\\frac{e^{s t} e^{i \\omega t}}{c s + k + m s^{2}}$$"
      ],
      "text/plain": [
       "  s⋅t  ⅈ⋅ω⋅t  \n",
       " ℯ   ⋅ℯ       \n",
       "──────────────\n",
       "             2\n",
       "c⋅s + k + m⋅s "
      ]
     },
     "execution_count": 30,
     "metadata": {},
     "output_type": "execute_result"
    }
   ],
   "source": [
    "w = sym.symbols('omega', real=True)\n",
    "H1 = sym.exp(sym.I*w*t)*H\n",
    "H1"
   ]
  },
  {
   "cell_type": "code",
   "execution_count": null,
   "metadata": {},
   "outputs": [],
   "source": []
  },
  {
   "cell_type": "code",
   "execution_count": null,
   "metadata": {},
   "outputs": [],
   "source": []
  }
 ],
 "metadata": {
  "colab": {
   "collapsed_sections": [],
   "name": "6.Pendulo_Elastico.ipynb",
   "provenance": [],
   "version": "0.3.2"
  },
  "kernelspec": {
   "display_name": "Python 3",
   "language": "python",
   "name": "python3"
  },
  "language_info": {
   "codemirror_mode": {
    "name": "ipython",
    "version": 3
   },
   "file_extension": ".py",
   "mimetype": "text/x-python",
   "name": "python",
   "nbconvert_exporter": "python",
   "pygments_lexer": "ipython3",
   "version": "3.7.3"
  }
 },
 "nbformat": 4,
 "nbformat_minor": 1
}
