{
 "cells": [
  {
   "cell_type": "markdown",
   "metadata": {
    "colab_type": "text",
    "id": "5mw9WCxK3Y5D",
    "nbsphinx": "hidden"
   },
   "source": [
    "# Transformada de Laplace\n",
    "\n",
    "*This Jupyter notebook is part of a [collection of notebooks](../index.ipynb) in the bachelors module Signals and Systems, Communications Engineering, Universität Rostock. Please direct questions and suggestions to [Sascha.Spors@uni-rostock.de](mailto:Sascha.Spors@uni-rostock.de).*"
   ]
  },
  {
   "cell_type": "markdown",
   "metadata": {
    "colab_type": "text",
    "id": "WTtnxffk3Y5I"
   },
   "source": [
    "## Definición\n",
    "\n",
    "La [trasnformada de Laplace](https://en.wikipedia.org/wiki/Laplace_transform) es una transformada integral con la función exponencial compleja $e^{s t}$ como base de transformación. Convierte una señal compleja $x(t) \\in \\mathbb{C}$ con variable independiente real $t \\in \\mathbb{R}$ en su transformada compleja de Laplace $X(s) \\in \\mathbb{C}$ con variable independiente compleja $s \\in \\mathbb{C}$. La transformada de Laplace recibe su nombre en honor a [Pierre-Simon Laplace](https://en.wikipedia.org/wiki/Pierre-Simon_Laplace).\n",
    "\n",
    "Las funciones exponenciales complejas constituyen autofunciones de sistemas lineales e invariantes en el tiempo (SLIT). Por eso, la transformada de Laplace es utilizada en el contexto de señales y SLIT. "
   ]
  },
  {
   "cell_type": "markdown",
   "metadata": {
    "colab_type": "text",
    "id": "V0NIUci93Y5K"
   },
   "source": [
    "### Transformada Bilateral de Laplace\n",
    "\n",
    "La transformada bilateral de Laplace se define como\n",
    "\\begin{equation}\n",
    "X(s) = \\int_{-\\infty}^{\\infty} x(t) \\, e^{- s t} \\; dt\n",
    "\\end{equation}\n",
    "\n",
    "Donde $X(s) = \\mathcal{L} \\{ x(t)\\}$ es la transformada de Laplace de $x(t)$. Una señal compleja $x(t) \\in \\mathbb{C}$ con variable independiente real $t \\in \\mathbb{R}$ se representa por sus transformada compleja de Laplace $X(s) \\in \\mathbb{C}$ con variable independiente compleja $s \\in \\mathbb{C}$. La variable $s$ se puede interpretar como frecuencia compleja  $s = \\sigma + j \\omega$ con $\\sigma, \\omega \\in \\mathbb{R}$.\n",
    "\n",
    "\n",
    "La existencia de la transformada de Laplace $X(s) = \\mathcal{L} \\{ x(t) \\}$ depende de la frecuencia compleja $s$ y la señal $x(t)$. Todos los valores para los cuales la transformada de Laplace converge forman la [*region de convergencia*](https://en.wikipedia.org/wiki/Radius_of_convergence) (ROC). Las transformadas de Laplace de dos señales diferentes pueden tener diferentes ROC. Por ello, la ROC necesita ser especificada para una inversión única de la transformada de Laplace."
   ]
  },
  {
   "cell_type": "markdown",
   "metadata": {
    "colab_type": "text",
    "id": "X8W6sWY73Y5N"
   },
   "source": [
    "### Transformada Unilateral de Laplace\n",
    "\n",
    "Las señales causales juegan un rol importante en la teoría de señales y sistemas. Para una señal causal $x(t) = 0$ para $t <0$, la relación $x(t) = x(t) \\cdot \\epsilon(t)$ se cumple. Empleando esta definición en la transformada bilateral de Laplace da como resultado\n",
    "\n",
    "\\begin{equation}\n",
    "X(s) = \\int_{-\\infty}^{\\infty} x(t) \\cdot \\epsilon(t) \\, e^{- s t} \\; dt = \\int_{0}^{\\infty} x(t) \\, e^{- s t} \\; dt\n",
    "\\end{equation}\n",
    "\n",
    "La anterior igualdad, se define como la transformada unilateral de Laplace\n",
    "\n",
    "\\begin{equation}\n",
    "X(s) = \\int_{0}^{\\infty} x(t) \\, e^{- s t} \\; dt\n",
    "\\end{equation}\n",
    "\n",
    "En la literatura ambas transformadas de Laplace (unilateral y bilateral) son denominadas como transformada de Laplace. Ambas obtienen el mismo resultado para señales causales."
   ]
  },
  {
   "cell_type": "markdown",
   "metadata": {
    "colab_type": "text",
    "id": "HYIdvDXB3Y5S"
   },
   "source": [
    "### Transformada de un Impulso de Dirac\n",
    "\n",
    "La transformada de Laplace de un [impulso de Dirac](../continuous_signals/standard_signals.ipynb#Dirac-Impulse) $\\mathcal{L} \\{ \\delta(t) \\}$ se obtiene al reemplazar $\\delta(t)$ en la definición de la transfromada bilateral de Laplace y utilizar la propiedad de selectividad de la función Delta\n",
    "\n",
    "\\begin{equation}\n",
    "\\mathcal{L} \\{ \\delta(t) \\} = \\int_{-\\infty}^{\\infty} \\delta(t) \\, e^{- s t} dt = e^{- s t} \\Big\\vert_{t=0}  =  1\n",
    "\\end{equation}\n",
    "para $s \\in \\mathbb{C}$. La ROC cubre todo el plano complejo.\n",
    "\n",
    "La transformada de un impulso de Dirac centrado en cero es uno. Por lo tanto, todas las frecuencias complejas $s$ tienen el mismo factor de escala. Esta es una propiedad importante en la teoría de señales y sistemas, debido a que el impulso de Dirac es utilizado para caracterizar un SLIT mediante su respuesta al impulso $h(t) = \\mathcal{H} \\{ \\delta(t) \\}$."
   ]
  },
  {
   "cell_type": "markdown",
   "metadata": {
    "colab_type": "text",
    "id": "XKEhUOxy3Y5U"
   },
   "source": [
    "**Ejemplo**\n",
    "\n",
    "La transformada de Laplace de un impulso de Dirac se puede obtener utilizando `SymPy` evaluando la integral de transformación."
   ]
  },
  {
   "cell_type": "code",
   "execution_count": 2,
   "metadata": {
    "colab": {
     "base_uri": "https://localhost:8080/",
     "height": 34
    },
    "colab_type": "code",
    "executionInfo": {
     "elapsed": 448,
     "status": "ok",
     "timestamp": 1558216859916,
     "user": {
      "displayName": "Santiago Rincon",
      "photoUrl": "",
      "userId": "10970905932025499956"
     },
     "user_tz": 300
    },
    "id": "WxxG-gM53Y5X",
    "outputId": "9572e5f5-d57a-4da9-9f1d-b2aceb82bde0"
   },
   "outputs": [
    {
     "data": {
      "image/png": "[encoded data removed]",
      "text/latex": [
       "$$1$$"
      ],
      "text/plain": [
       "1"
      ]
     },
     "execution_count": 2,
     "metadata": {},
     "output_type": "execute_result"
    }
   ],
   "source": [
    "%matplotlib inline\n",
    "import sympy as sym\n",
    "sym.init_printing()\n",
    "\n",
    "t = sym.symbols('t', real=True)\n",
    "s = sym.symbols('s', complex=True)\n",
    "\n",
    "X = sym.integrate(sym.DiracDelta(t)*sym.exp(-s*t), (t, -sym.oo, sym.oo))\n",
    "X"
   ]
  },
  {
   "cell_type": "markdown",
   "metadata": {
    "colab_type": "text",
    "id": "TMz67POz3Y5n"
   },
   "source": [
    "**Ejercicio**\n",
    "\n",
    "* Obtener la transformada de Laplace bilateral de una versión desplazada en tiempo de un impulso de Dirac $\\delta(t - \\tau)$ por evaluación manual y modificando el anterior ejemplo.\n",
    "* Obtener la transformada unilateral de Laplace de un impulso de Dirac desplazado en tiempo $\\delta(t - \\tau)$. Consejo: recuerde considerar los casos: $\\tau < 0$  y  $\\tau > 0$."
   ]
  },
  {
   "cell_type": "markdown",
   "metadata": {},
   "source": [
    "**Solución**\n",
    "La ecuación por evaluación manual \n",
    "\n",
    "\\begin{equation}\n",
    "\\mathcal{L} \\{ \\delta(t-\\tau) \\} = \\int_{-\\infty}^{\\infty} \\delta(t-\\tau) \\, e^{- s t} dt = e^{- s t} \\Big\\vert_{t=\\tau}  =  e^{- s \\tau}\n",
    "\\end{equation}"
   ]
  },
  {
   "cell_type": "code",
   "execution_count": 3,
   "metadata": {},
   "outputs": [
    {
     "data": {
      "image/png": "[encoded data removed]",
      "text/latex": [
       "$$e^{- s \\tau}$$"
      ],
      "text/plain": [
       " -s⋅τ\n",
       "ℯ    "
      ]
     },
     "execution_count": 3,
     "metadata": {},
     "output_type": "execute_result"
    }
   ],
   "source": [
    "sym.init_printing()\n",
    "\n",
    "t = sym.symbols('t', real=True)\n",
    "s = sym.symbols('s', complex=True)\n",
    "tau= sym.symbols('tau', real=True)\n",
    "\n",
    "X = sym.integrate(sym.DiracDelta(t-tau)*sym.exp(-s*t), (t, -sym.oo, sym.oo))\n",
    "X"
   ]
  },
  {
   "cell_type": "code",
   "execution_count": 10,
   "metadata": {},
   "outputs": [
    {
     "data": {
      "image/png": "[encoded data removed]",
      "text/latex": [
       "$$e^{- s \\tau}$$"
      ],
      "text/plain": [
       " -s⋅τ\n",
       "ℯ    "
      ]
     },
     "execution_count": 10,
     "metadata": {},
     "output_type": "execute_result"
    }
   ],
   "source": [
    "#La transformada unilateral va desde cero, entonces:\n",
    "sym.init_printing()\n",
    "\n",
    "t = sym.symbols('t', real=True)\n",
    "s = sym.symbols('s', complex=True)\n",
    "tau= sym.symbols('tau', positive=True)\n",
    "\n",
    "X = sym.integrate(sym.DiracDelta(t-tau)*sym.exp(-s*t), (t, 0, sym.oo))\n",
    "X"
   ]
  },
  {
   "cell_type": "code",
   "execution_count": 11,
   "metadata": {},
   "outputs": [
    {
     "data": {
      "image/png": "[encoded data removed]",
      "text/latex": [
       "$$0$$"
      ],
      "text/plain": [
       "0"
      ]
     },
     "execution_count": 11,
     "metadata": {},
     "output_type": "execute_result"
    }
   ],
   "source": [
    "#cuando tau<0:\n",
    "sym.init_printing()\n",
    "\n",
    "t = sym.symbols('t', real=True)\n",
    "s = sym.symbols('s', complex=True)\n",
    "tau= sym.symbols('tau', negative=True)\n",
    "\n",
    "X = sym.integrate(sym.DiracDelta(t-tau)*sym.exp(-s*t), (t, 0, sym.oo))\n",
    "X"
   ]
  },
  {
   "cell_type": "markdown",
   "metadata": {
    "colab_type": "text",
    "id": "aPsFniH13Y5p"
   },
   "source": [
    "### Transformada de una Señal Exponencial Compleja Causal\n",
    "\n",
    "La transformada $X(s) = \\mathcal{L} \\{ x(t) \\}$ de una señal exponencial compleja causal\n",
    "\n",
    "\\begin{equation}\n",
    "x(t) = \\epsilon(t) \\cdot e^{-s_0 t}\n",
    "\\end{equation}\n",
    "\n",
    "Con frecuencia compleja $s_0 \\in \\mathbb{C}$ se obtiene al evaluar la transformada unilateral de Laplace.\n",
    "\n",
    "\\begin{equation}\n",
    "\\begin{split}\n",
    "X(s) &= \\int_{0}^{\\infty} e^{-s_0 t} \\cdot e^{-s t} \\; dt = \\frac{-e^{-(s+s_0)t}}{s+s_0} \\, \\bigg\\vert_{0}^{\\infty} = \\frac{-1}{s+s_0} \\left[ \\lim_{t \\to \\infty} \\left( e^{- (s+s_0) t} \\right) -1 \\right] \\\\\n",
    "&= \\frac{1}{s + s_0}\n",
    "\\end{split}\n",
    "\\end{equation}\n",
    "\n",
    "Se puede concluir que para el límite anterior, la transformada de Laplace converge si y solo si $\\Re \\{ s + s_0 \\} > 0$. Por lo tanto, la ROC es:\n",
    "\n",
    "\\begin{equation}\n",
    "\\Re \\{ s \\} > \\Re \\{ - s_0 \\} \n",
    "\\end{equation}\n",
    "\n",
    "Combinando ambas expresiones, la transformada de una señal exponencial compleja causal es:\n",
    "\n",
    "\\begin{equation}\n",
    "\\mathcal{L} \\{ \\epsilon(t) \\cdot e^{-s_0 t} \\} = \\frac{1}{s + s_0} \\quad \\text{; para } \\Re \\{ s \\} > \\Re \\{ - s_0 \\}\n",
    "\\end{equation}"
   ]
  },
  {
   "cell_type": "markdown",
   "metadata": {
    "colab_type": "text",
    "id": "HO-qQ9S_3Y5s"
   },
   "source": [
    "**Ejemplo - Transformada de una señal exponencial**\n",
    "\n",
    "En `SymPy`, la [transformada de Laplace](http://docs.sympy.org/latest/modules/integrals/integrals.html?highlight=laplace#sympy.integrals.transforms.laplace_transform) es la transformada unilateral. La respectiva función de `SymPy`es utilizada en este ejemplo para calcular la transformada de una señal exponencial causal."
   ]
  },
  {
   "cell_type": "code",
   "execution_count": 4,
   "metadata": {
    "colab": {
     "base_uri": "https://localhost:8080/",
     "height": 52
    },
    "colab_type": "code",
    "executionInfo": {
     "elapsed": 1475,
     "status": "ok",
     "timestamp": 1558217549192,
     "user": {
      "displayName": "Santiago Rincon",
      "photoUrl": "",
      "userId": "10970905932025499956"
     },
     "user_tz": 300
    },
    "id": "D8lhFWRv3Y5w",
    "outputId": "3c0d202e-9977-4a06-cc06-21cca900e962"
   },
   "outputs": [
    {
     "data": {
      "image/png": "[encoded data removed]",
      "text/latex": [
       "$$\\left ( \\frac{1}{s + s_{0}}, \\quad 0, \\quad \\left|{\\arg{\\left (s_{0} \\right )}}\\right| < \\frac{\\pi}{2}\\right )$$"
      ],
      "text/plain": [
       "⎛  1                    π⎞\n",
       "⎜──────, 0, │arg(s₀)│ < ─⎟\n",
       "⎝s + s₀                 2⎠"
      ]
     },
     "execution_count": 4,
     "metadata": {},
     "output_type": "execute_result"
    }
   ],
   "source": [
    "s0 = sym.symbols('s0', complex=True)\n",
    "\n",
    "X, a, cond = sym.laplace_transform(sym.exp(-s0*t), t, s)\n",
    "X, a, cond"
   ]
  },
  {
   "cell_type": "markdown",
   "metadata": {
    "colab_type": "text",
    "id": "axgSYUOv3Y54"
   },
   "source": [
    "La función regresa tres resultados. El primero es $X(s)$, el segundo es la región de convergencia para el que $\\Re \\{ s \\} > a$ y el tercero representa una condición auxiliar de convergencia."
   ]
  },
  {
   "cell_type": "markdown",
   "metadata": {
    "colab_type": "text",
    "id": "LC_NPMzK3Y56"
   },
   "source": [
    "### Transformada de una Señal Heaviside\n",
    "\n",
    "La transformada de Laplace de una señal Heaviside (escalón unitario) se obtiene cuando en la señal $\\epsilon(t) \\cdot e^{-s_0 t}$ se hace $s_0 = 0$\n",
    "\n",
    "\\begin{equation}\n",
    "\\mathcal{L} \\{ \\epsilon(t) \\} = \\frac{1}{s} \\qquad \\text{; para } \\Re \\{ s \\} > 0\n",
    "\\end{equation}"
   ]
  },
  {
   "cell_type": "markdown",
   "metadata": {
    "colab_type": "text",
    "id": "LH8QRyHK3Y57"
   },
   "source": [
    "## Convergencia\n",
    "\n",
    "Una condición suficiente pero no necesaria para la existencia de la transformada de Laplace $X(s) = \\mathcal{L} \\{ x(t) \\}$ de una señal $x(t)$ es\n",
    "\n",
    "\\begin{equation}\n",
    "\\int_{-\\infty}^{\\infty} | x(t) \\cdot e^{- \\sigma t} | \\; dt < \\infty\n",
    "\\end{equation}\n",
    "\n",
    "Donde $\\sigma = \\Re\\{ s \\}$ es la parte real de la frecuencia compleja $s = \\sigma + j \\omega$ de la transformada de Laplace. Formalmente, la señal $x(t)$ debe ser entonces una [función localmente integrable](https://en.wikipedia.org/wiki/Locally_integrable_function).\n",
    "\n",
    "La parte imaginaria $\\omega = \\Im \\{ s \\}$ de la frecuencia $s$ no afecta en el análisis de la convergencia. Consecuentemente, la ROC se determina unicamente por la parte real $\\sigma = \\Re\\{ s \\}$. Para una señal con $x(t) = 0$ para $t < T_0$, la ROC está dada por la forma $\\Re \\{ s \\} > a$ con $a \\in \\mathbb{R}$. Lo anterior puede ser concluido gracias al decaimiento del término exponencial $e^{- \\sigma t}$ para $t \\to \\infty$, el cual asegura la convergencia para un valor dado de $a$. Sin embargo, este razonamiento es válido solo para señales con [crecimiento exponencial](https://en.wikipedia.org/wiki/Exponential_growth).\n",
    "\n",
    "El mismo razonamiento permite encontrar las ROC de señalescon $x(t) = 0$ para $t > T_0$ y bilaterales. Las ROC resultantes se muestran en la siguiente imágen.\n",
    "\n",
    "![Region of convergence for left-/two-/right-sided signal](ROC.png)\n",
    "\n",
    "Las áreas grises muestran el valor de $s$ para los cuales la transformada de Laplace converge. \n",
    "\n",
    "Las fronteras $a$ de estas áreas dependen de la señal $x(t)$. "
   ]
  },
  {
   "cell_type": "markdown",
   "metadata": {
    "colab_type": "text",
    "id": "0LNqOKrM3Y59"
   },
   "source": [
    "## Representación\n",
    "\n",
    "La transformada de Laplace $X(s) = \\mathcal{L} \\{ x(t) \\}$ depende de la frecuencia compleja $s \\in \\mathbb{C}$ y en general $X(s) \\in \\mathbb{C}$. Lo anterior puede ser ilustrado al graficar la magnitud $|X(s)|$ y la fase $\\varphi (s)$, la parte real $\\Re \\{ X(s) \\}$ e imaginaria $\\Im \\{ X(s) \\}$ en el plano complejo $s$. A menudo, los gráficos en 3-D no son muy ilustrativos.\n",
    "\n",
    "Sin embargo, muchas transformadas de Laplace de interés en la teoría de señales y sistemas son [funciones racionales](https://en.wikipedia.org/wiki/Rational_function) en $s$. Los polinomios del numerados  y del denominador pueden ser representados mediante sus [raices](https://en.wikipedia.org/wiki/Zero_of_a_function#Polynomial_roots) complejas y un factor constante. Las raices del numerador son llamadas *ceros* mientras que las raices del denominador son llamadas *polos* de $X(s)$. Las representaciones polinomiales y de ceros y polos son equivalentes:\n",
    "\n",
    "\\begin{equation}\n",
    "X(s) = \\frac{\\sum_{m=0}^{M} \\beta_m s^m}{\\sum_{n=0}^{N} \\alpha_n s^n} = K \\cdot \\frac{\\prod_{\\mu=0}^{Q} (s - s_{0 \\mu})}{\\prod_{\\nu=0}^{P} (s - s_{\\infty \\nu})}\n",
    "\\end{equation}\n",
    "\n",
    "Donde $M$ y $N$ son el orden de los polinomios del numerador y denominador respectivamente, $s_{0 \\mu}$ representa el $\\mu$-th cero y $s_{\\infty \\nu}$ el $\\nu$-th polo de $X(s)$, $Q = M-1$ y $P = N-1$ son el número total de ceros y polos respectivamente. Para $M=N$ el factor $K = \\frac{\\beta_M}{\\alpha_N}$. Si $M > N$, hay por lo menos un polo ubicado en $|s| = \\infty$.\n",
    "\n",
    "Es común ilustrar los polos y los ceros en un [gráfico de polos y ceros](https://en.wikipedia.org/wiki/Pole%E2%80%93zero_plot). Donde la ubicación de los polos y ceros complejos, sus ángulos y el factor $K$ son graficados en el plano $s$.\n",
    "\n",
    "![Ilustración de los polos y ceros en un gráfico de polos y ceros](pz_plot.png)\n",
    "\n",
    "Las ubicaciones de los polos y ceros proporcionan información sobre la composición de una señal. Por ejemplo, la transformada de Laplace de una señal exponencial compleja tiene un polo en $s = - s_0$. Una señal que se compone de una superposición de señales exponenciales complejas tendrá múltiples polos cuyas posiciones están relacionadas con las frecuencias complejas de las que se compone."
   ]
  },
  {
   "cell_type": "markdown",
   "metadata": {
    "colab_type": "text",
    "id": "y5UcRZL23Y5_"
   },
   "source": [
    "**Ejercicio**\n",
    "\n",
    "* Obtenga $X(s)$ junto con su ROC de la anterior gráfica de polos y ceros."
   ]
  },
  {
   "cell_type": "markdown",
   "metadata": {},
   "source": [
    "$X(s)$:\n",
    "\n",
    "\\begin{equation}\n",
    "X(s)=\\frac{2s}{(s-(-1+j))(s-(-1-j))}\n",
    "\\end{equation}\n",
    "\n",
    "\\begin{equation}\n",
    "X(s)=\\frac{2s}{(s+1-j)(s+1+j)}\n",
    "\\end{equation}\n",
    "\n",
    "\\begin{equation}\n",
    "X(s)=\\frac{2s}{s^2+s+js+s+1+j-js-j-j^2}\n",
    "\\end{equation}\n",
    "\n",
    "\\begin{equation}\n",
    "X(s)=\\frac{2s}{s^2+2s+1-(-1)}\n",
    "\\end{equation}\n",
    "\n",
    "\\begin{equation}\n",
    "X(s)=\\frac{2s}{s^2+2s+2}\n",
    "\\end{equation}\n",
    "\n",
    "Región de convergencia:\n",
    "\n",
    "\\begin{equation}\n",
    "X(s)=\\frac{2s}{s^2+2s+2-1+1}\n",
    "\\end{equation}\n",
    "\n",
    "\\begin{equation}\n",
    "X(s)=\\frac{2s}{(s^2+2s+1)+1}\n",
    "\\end{equation}\n",
    "\n",
    "\\begin{equation}\n",
    "X(s)=\\frac{2s}{(s+1)(s+1)+1}\n",
    "\\end{equation}\n",
    "\n",
    "\\begin{equation}\n",
    "X(s)=\\frac{2s}{(s+1)^2+1}\n",
    "\\end{equation}\n",
    "\n",
    "\n",
    "\\begin{equation}\n",
    "X(s)=\\frac{2s+1-1}{(s+1)^2+1}\n",
    "\\end{equation}\n",
    "\n",
    "\n",
    "\\begin{equation}\n",
    "X(s)=2\\bigg[\\frac{s+1}{(s+1)^2+1}\\bigg]-\\bigg[\\frac{1}{(s+1)^2+1}\\bigg]\n",
    "\\end{equation}\n",
    "Los ROC definidos para estas dos componentes de la resta son los valores mayores que el valor real definido, por tanto la región de convergencia de la siguiente ecuación son los reales mayores que el valor real definido.\n",
    "\n",
    "\\begin{equation}\n",
    "X(s)=2\\bigg[\\frac{s+1}{(s+1)^2+1}\\bigg]-\\bigg[\\frac{1}{(s+1)^2+1}\\bigg]\n",
    "\\end{equation}"
   ]
  },
  {
   "cell_type": "markdown",
   "metadata": {
    "colab_type": "text",
    "id": "g5XuZHN03Y6B"
   },
   "source": [
    "**Ejemplo - Ilustración de la transformada de Laplace de una señal exponencial causal**\n",
    "\n",
    "La transformada de Laplace de una señal exponencial compleja causal\n",
    "\n",
    "\\begin{equation}\n",
    "X(s) = \\frac{1}{s + s_0} \\qquad \\text{for } \\Re \\{ s \\} > \\Re \\{ - s_0 \\}\n",
    "\\end{equation}\n",
    "\n",
    "es ilustrada en el gráfico de su magnitud $|X(s)|$ en el  plano $s$ con $s = \\sigma + j \\omega$ for $s_0 = 1 + j$."
   ]
  },
  {
   "cell_type": "code",
   "execution_count": 5,
   "metadata": {
    "colab": {
     "base_uri": "https://localhost:8080/",
     "height": 248
    },
    "colab_type": "code",
    "executionInfo": {
     "elapsed": 1092,
     "status": "ok",
     "timestamp": 1558220164665,
     "user": {
      "displayName": "Santiago Rincon",
      "photoUrl": "",
      "userId": "10970905932025499956"
     },
     "user_tz": 300
    },
    "id": "nRms7sR83Y6F",
    "outputId": "eb298e57-70e5-4146-bf87-615b4afc059a"
   },
   "outputs": [
    {
     "data": {
      "image/png": "[encoded data removed]",
      "text/plain": [
       "<Figure size 432x288 with 1 Axes>"
      ]
     },
     "metadata": {
      "needs_background": "light"
     },
     "output_type": "display_data"
    }
   ],
   "source": [
    "sigma, omega = sym.symbols('sigma omega')\n",
    "\n",
    "X = 1/(s + s0)\n",
    "X1 = X.subs({s: sigma+sym.I*omega, s0: 1+sym.I})\n",
    "\n",
    "sym.plotting.plot3d(abs(X1), (sigma, -2, 2), (omega, -2, 2),\n",
    "                    xlabel=r'$\\Re\\{s\\}$', ylabel=r'$\\Im\\{s\\}$', title=r'$|X(s)|$');"
   ]
  },
  {
   "cell_type": "markdown",
   "metadata": {
    "colab_type": "text",
    "id": "tQcoJR_-3Y6P"
   },
   "source": [
    "Alternativamente, la transformada de Laplace es ilustrada en un gráfica de polos y ceros.\n",
    "\n",
    "Primero los polos."
   ]
  },
  {
   "cell_type": "code",
   "execution_count": 6,
   "metadata": {
    "colab": {
     "base_uri": "https://localhost:8080/",
     "height": 34
    },
    "colab_type": "code",
    "executionInfo": {
     "elapsed": 606,
     "status": "ok",
     "timestamp": 1558220464560,
     "user": {
      "displayName": "Santiago Rincon",
      "photoUrl": "",
      "userId": "10970905932025499956"
     },
     "user_tz": 300
    },
    "id": "3S4KRNHl3Y6S",
    "outputId": "b7911efd-685f-4a8b-b3eb-fb621c0f14b4"
   },
   "outputs": [
    {
     "data": {
      "image/png": "[encoded data removed]",
      "text/latex": [
       "$$\\left \\{ - s_{0} : 1\\right \\}$$"
      ],
      "text/plain": [
       "{-s₀: 1}"
      ]
     },
     "execution_count": 6,
     "metadata": {},
     "output_type": "execute_result"
    }
   ],
   "source": [
    "poles = sym.roots(sym.denom(X), s)\n",
    "poles"
   ]
  },
  {
   "cell_type": "markdown",
   "metadata": {
    "colab_type": "text",
    "id": "YZC96hoo3Y6f"
   },
   "source": [
    "y los ceros"
   ]
  },
  {
   "cell_type": "code",
   "execution_count": 7,
   "metadata": {
    "colab": {
     "base_uri": "https://localhost:8080/",
     "height": 34
    },
    "colab_type": "code",
    "executionInfo": {
     "elapsed": 316,
     "status": "ok",
     "timestamp": 1558220465474,
     "user": {
      "displayName": "Santiago Rincon",
      "photoUrl": "",
      "userId": "10970905932025499956"
     },
     "user_tz": 300
    },
    "id": "86g0HUpB3Y6i",
    "outputId": "84f7ffe1-87d6-42b6-bc81-9ceb38120835"
   },
   "outputs": [
    {
     "data": {
      "image/png": "[encoded data removed]",
      "text/latex": [
       "$$\\left \\{ \\right \\}$$"
      ],
      "text/plain": [
       "{}"
      ]
     },
     "execution_count": 7,
     "metadata": {},
     "output_type": "execute_result"
    }
   ],
   "source": [
    "zeros = sym.roots(sym.numer(X), s)\n",
    "zeros"
   ]
  },
  {
   "cell_type": "markdown",
   "metadata": {
    "colab_type": "text",
    "id": "F4PXFlWo3Y6p"
   },
   "source": [
    "Los anteriores diccionarios están compuestos de polos y ceros, y sus respectivos ángulos.\n",
    "\n",
    "Para ilustrar la localización de polos y ceros en el plano $s$, hay una función definida para gráficos de polos y ceros utilizando la librería de Python [`matplotlib`](http://matplotlib.org/)."
   ]
  },
  {
   "cell_type": "code",
   "execution_count": 8,
   "metadata": {
    "colab": {},
    "colab_type": "code",
    "id": "9ODt5SBy3Y6r"
   },
   "outputs": [],
   "source": [
    "import matplotlib.pyplot as plt\n",
    "\n",
    "def pole_zero_plot(poles, zeros, ax=None):\n",
    "    \n",
    "    for pole in poles:\n",
    "        plt.plot(complex(pole).real, complex(pole).imag, 'rx', markersize=10)\n",
    "    for zero in zeros:\n",
    "        plt.plot(complex(zero).real, complex(zero).imag, 'bo', markersize=10)\n",
    "    \n",
    "    if ax is None:\n",
    "        ax = plt.gca()\n",
    "    ax.set_aspect(1)\n",
    "    \n",
    "    plt.axis([-2, 2, -2, 2])\n",
    "    plt.xlabel(r'$\\Re \\{ s \\}$')\n",
    "    plt.ylabel(r'$\\Im \\{ s \\}$')\n",
    "    plt.grid()"
   ]
  },
  {
   "cell_type": "markdown",
   "metadata": {
    "colab_type": "text",
    "id": "fMDr5qqi3Y6w"
   },
   "source": [
    "El diagrama de polos y ceros es mostrado para $s_0 = 1 + j$"
   ]
  },
  {
   "cell_type": "code",
   "execution_count": 9,
   "metadata": {
    "colab": {
     "base_uri": "https://localhost:8080/",
     "height": 287
    },
    "colab_type": "code",
    "executionInfo": {
     "elapsed": 609,
     "status": "ok",
     "timestamp": 1558220468538,
     "user": {
      "displayName": "Santiago Rincon",
      "photoUrl": "",
      "userId": "10970905932025499956"
     },
     "user_tz": 300
    },
    "id": "L1LY83zF3Y6z",
    "outputId": "a7d58487-0b65-4261-a414-0b18f55533b9"
   },
   "outputs": [
    {
     "data": {
      "image/png": "[encoded data removed]",
      "text/plain": [
       "<Figure size 432x288 with 1 Axes>"
      ]
     },
     "metadata": {
      "needs_background": "light"
     },
     "output_type": "display_data"
    }
   ],
   "source": [
    "X2 = X.subs(s0, 1+sym.I)\n",
    "pole_zero_plot(sym.roots(sym.denom(X2), s), sym.roots(sym.numer(X2), s))"
   ]
  },
  {
   "cell_type": "markdown",
   "metadata": {
    "colab_type": "text",
    "id": "PlKdixHE3Y67",
    "nbsphinx": "hidden"
   },
   "source": [
    "**Copyright**\n",
    "\n",
    "The notebooks are provided as [Open Educational Resource](https://de.wikipedia.org/wiki/Open_Educational_Resources). Feel free to use the notebooks for your own educational purposes. The text is licensed under [Creative Commons Attribution 4.0](https://creativecommons.org/licenses/by/4.0/), the code of the IPython examples under the [MIT license](https://opensource.org/licenses/MIT). Please attribute the work as follows: *Lecture Notes on Signals and Systems* by Sascha Spors."
   ]
  }
 ],
 "metadata": {
  "colab": {
   "collapsed_sections": [],
   "name": "definition.ipynb",
   "provenance": [],
   "version": "0.3.2"
  },
  "kernelspec": {
   "display_name": "Python 3",
   "language": "python",
   "name": "python3"
  },
  "language_info": {
   "codemirror_mode": {
    "name": "ipython",
    "version": 3
   },
   "file_extension": ".py",
   "mimetype": "text/x-python",
   "name": "python",
   "nbconvert_exporter": "python",
   "pygments_lexer": "ipython3",
   "version": "3.7.3"
  }
 },
 "nbformat": 4,
 "nbformat_minor": 1
}
